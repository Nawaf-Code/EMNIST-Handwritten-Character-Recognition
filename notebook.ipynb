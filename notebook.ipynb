{
 "cells": [
  {
   "cell_type": "markdown",
   "metadata": {
    "id": "zemWtDr8gVOf"
   },
   "source": [
    "## Task: Train an EMNIST classifier\n",
    "\n",
    "EMNIST (or extended MNIST) is just like MNIST, a bunch of handwritten images, except instead of just digits (0-9) it also has uppercase and lowercase characters.\n",
    "\n",
    "You are provided with the code to load the EMNIST train and split **datasets**\n",
    "\n",
    "Write and train a classifier for EMNIST. Make sure to\n",
    "\n",
    "- Show how your loss(es) dropped during training.\n",
    "- Show final performance of your model on untrained data.\n",
    "- Maintain good code quality."
   ]
  },
  {
   "cell_type": "code",
   "execution_count": 183,
   "metadata": {
    "executionInfo": {
     "elapsed": 9225,
     "status": "ok",
     "timestamp": 1705147284019,
     "user": {
      "displayName": "Nawaf Alzuwaymil",
      "userId": "08210568604399994989"
     },
     "user_tz": -180
    },
    "id": "4GQMlmw2hwbn"
   },
   "outputs": [],
   "source": [
    "import torch\n",
    "import torch.nn as nn\n",
    "import torch.optim as optim\n",
    "from torch.optim import Adam\n",
    "\n",
    "import matplotlib.pyplot as plt\n",
    "import numpy as np\n",
    "from torchvision.transforms.functional import to_tensor, to_pil_image, resize\n",
    "\n",
    "import torchvision\n",
    "from torchvision.datasets import EMNIST\n",
    "import torchvision.transforms.functional as F\n",
    "import torch.nn.functional as F\n",
    "from torchvision import transforms\n",
    "from torch.utils.data import DataLoader, Subset"
   ]
  },
  {
   "cell_type": "code",
   "execution_count": 184,
   "metadata": {
    "colab": {
     "base_uri": "https://localhost:8080/"
    },
    "executionInfo": {
     "elapsed": 48078,
     "status": "ok",
     "timestamp": 1705147334271,
     "user": {
      "displayName": "Nawaf Alzuwaymil",
      "userId": "08210568604399994989"
     },
     "user_tz": -180
    },
    "id": "InCfHKZme7ga",
    "outputId": "5b94e45b-ab74-45dd-f5a7-2f9259646623"
   },
   "outputs": [],
   "source": [
    "train_data = EMNIST(root='emnist_data/', split='byclass', download=True, transform=transforms.ToTensor())\n",
    "test_data = EMNIST(root='emnist_data/', split='byclass', download=True, train=False, transform=transforms.ToTensor())"
   ]
  },
  {
   "cell_type": "code",
   "execution_count": 185,
   "metadata": {
    "executionInfo": {
     "elapsed": 799,
     "status": "ok",
     "timestamp": 1705147337720,
     "user": {
      "displayName": "Nawaf Alzuwaymil",
      "userId": "08210568604399994989"
     },
     "user_tz": -180
    },
    "id": "xTihb0_lrWQb"
   },
   "outputs": [],
   "source": [
    "\n",
    "batch_size = 64 # To group each k samples together. , each iteration train with 64 photo\n",
    "\n",
    "# DataLoaders simplify the job of grouping the samples into batches.\n",
    "train_loader = DataLoader(train_data, batch_size=batch_size, shuffle=True)\n",
    "val_loader = DataLoader(test_data, batch_size=batch_size, shuffle=False)  # no need to shuffle validation data"
   ]
  },
  {
   "cell_type": "code",
   "execution_count": 186,
   "metadata": {
    "colab": {
     "base_uri": "https://localhost:8080/",
     "height": 346
    },
    "executionInfo": {
     "elapsed": 601,
     "status": "ok",
     "timestamp": 1705147342826,
     "user": {
      "displayName": "Nawaf Alzuwaymil",
      "userId": "08210568604399994989"
     },
     "user_tz": -180
    },
    "id": "udb4rY5Vhaau",
    "outputId": "d664c2d4-082c-4051-de00-7f77e07bfcbc"
   },
   "outputs": [
    {
     "name": "stdout",
     "output_type": "stream",
     "text": [
      "Number of classes in dataset: 62\n",
      "Unique labels: ['0', '1', '2', '3', '4', '5', '6', '7', '8', '9', 'A', 'B', 'C', 'D', 'E', 'F', 'G', 'H', 'I', 'J', 'K', 'L', 'M', 'N', 'O', 'P', 'Q', 'R', 'S', 'T', 'U', 'V', 'W', 'X', 'Y', 'Z', 'a', 'b', 'c', 'd', 'e', 'f', 'g', 'h', 'i', 'j', 'k', 'l', 'm', 'n', 'o', 'p', 'q', 'r', 's', 't', 'u', 'v', 'w', 'x', 'y', 'z']\n",
      "7\n"
     ]
    },
    {
     "data": {
      "text/plain": [
       "tensor([[[0., 0., 0.,  ..., 0., 0., 0.],\n",
       "         [0., 0., 0.,  ..., 0., 0., 0.],\n",
       "         [0., 0., 0.,  ..., 0., 0., 0.],\n",
       "         ...,\n",
       "         [0., 0., 0.,  ..., 0., 0., 0.],\n",
       "         [0., 0., 0.,  ..., 0., 0., 0.],\n",
       "         [0., 0., 0.,  ..., 0., 0., 0.]]])"
      ]
     },
     "execution_count": 186,
     "metadata": {},
     "output_type": "execute_result"
    }
   ],
   "source": [
    "# This cell is for demo purposes. feel free to remove it if you want.\n",
    "print('Number of classes in dataset:', len(train_data.classes))\n",
    "print('Unique labels:', train_data.classes)\n",
    "\n",
    "demo_img, demo_label = train_data[10]\n",
    "\n",
    "print(demo_label)\n",
    "torchvision.transforms.functional.resize(demo_img, (255, 255))"
   ]
  },
  {
   "cell_type": "code",
   "execution_count": 187,
   "metadata": {
    "colab": {
     "base_uri": "https://localhost:8080/"
    },
    "executionInfo": {
     "elapsed": 1561,
     "status": "ok",
     "timestamp": 1705147346776,
     "user": {
      "displayName": "Nawaf Alzuwaymil",
      "userId": "08210568604399994989"
     },
     "user_tz": -180
    },
    "id": "Ia6MAyxqhiAi",
    "outputId": "b8165091-249b-4e94-8682-429e00024397"
   },
   "outputs": [
    {
     "name": "stdout",
     "output_type": "stream",
     "text": [
      "Training subset size: 69793\n",
      "Test subset size: 11632\n"
     ]
    }
   ],
   "source": [
    "# Transformations for the EMNIST dataset\n",
    "transform = transforms.Compose([\n",
    "    transforms.ToTensor(),\n",
    "])\n",
    "\n",
    "# Load the datasets\n",
    "train_data = EMNIST(root='emnist_data/', split='byclass', train=True, download=True, transform=transforms.ToTensor())\n",
    "test_data = EMNIST(root='emnist_data/', split='byclass', train=False, download=True, transform=transforms.ToTensor())\n",
    "\n",
    "# Define the size of the subset as a fraction of the original dataset\n",
    "subset_fraction = 0.1 ## You can play with this to get a bigger or smaller subset\n",
    "\n",
    "# Create indices for the training subset\n",
    "train_indices = np.random.choice(len(train_data), int(len(train_data) * subset_fraction), replace=False)\n",
    "\n",
    "# Create the training subset\n",
    "train_subset = Subset(train_data, train_indices)\n",
    "\n",
    "# For the test set, you can do the same or use the full test set\n",
    "test_indices = np.random.choice(len(test_data), int(len(test_data) * subset_fraction), replace=False)\n",
    "test_subset = Subset(test_data, test_indices)\n",
    "\n",
    "# Check the size of the subset\n",
    "print(f\"Training subset size: {len(train_subset)}\")\n",
    "print(f\"Test subset size: {len(test_subset)}\")\n",
    "\n",
    "# Define the DataLoaders\n",
    "train_loader = DataLoader(train_subset, batch_size=32, shuffle=True)\n",
    "test_loader = DataLoader(test_subset, batch_size=32, shuffle=False)"
   ]
  },
  {
   "cell_type": "markdown",
   "metadata": {
    "id": "0XomVupUpiQH"
   },
   "source": [
    "## Let's visualize an image and its channels"
   ]
  },
  {
   "cell_type": "code",
   "execution_count": 188,
   "metadata": {
    "colab": {
     "base_uri": "https://localhost:8080/",
     "height": 501
    },
    "executionInfo": {
     "elapsed": 584,
     "status": "ok",
     "timestamp": 1705147351992,
     "user": {
      "displayName": "Nawaf Alzuwaymil",
      "userId": "08210568604399994989"
     },
     "user_tz": -180
    },
    "id": "dWpBWgFKoqZq",
    "outputId": "da389347-a957-44cb-b5a3-533ce0cf4c7b"
   },
   "outputs": [
    {
     "name": "stdout",
     "output_type": "stream",
     "text": [
      "The image shape: torch.Size([1, 28, 28])\n",
      "Number of channels in image:  1\n",
      "The image label: 35\n"
     ]
    },
    {
     "data": {
      "text/plain": [
       "<matplotlib.image.AxesImage at 0x2974277f0>"
      ]
     },
     "execution_count": 188,
     "metadata": {},
     "output_type": "execute_result"
    },
    {
     "data": {
      "image/png": "[encoded data removed]",
      "text/plain": [
       "<Figure size 640x480 with 1 Axes>"
      ]
     },
     "metadata": {},
     "output_type": "display_data"
    }
   ],
   "source": [
    "random_img_idx = 0 # Write any random index (between 0 and 59999)\n",
    "\n",
    "image = train_data[random_img_idx][0]  # 0 for image part in (image, label) tuple.\n",
    "label = train_data[random_img_idx][1]  # 1 for label part\n",
    "\n",
    "print(\"The image shape:\", image.shape)\n",
    "print('Number of channels in image: ', image.shape[0]) # 1 channel (layer) for black-white images.\n",
    "print(\"The image label:\", label)\n",
    "\n",
    "plt.imshow(image.reshape(28, 28), cmap='gray')"
   ]
  },
  {
   "cell_type": "code",
   "execution_count": 189,
   "metadata": {
    "executionInfo": {
     "elapsed": 3,
     "status": "ok",
     "timestamp": 1705147353393,
     "user": {
      "displayName": "Nawaf Alzuwaymil",
      "userId": "08210568604399994989"
     },
     "user_tz": -180
    },
    "id": "4GJGbiXYpp-w"
   },
   "outputs": [],
   "source": [
    "import torch.nn.functional as F\n",
    "class MyMNISTClassifier(nn.Module): #structure if nural network\n",
    "    def __init__(self, input_size):\n",
    "        super(MyMNISTClassifier, self).__init__()\n",
    "\n",
    "        \n",
    "        self.linear1 = torch.nn.Linear(input_size, 542)\n",
    "        self.linear2 = torch.nn.Linear(542, 180)\n",
    "        self.linear3 = torch.nn.Linear(180, 113)\n",
    "        self.linear4 = torch.nn.Linear(113, 62)\n",
    "\n",
    "    def forward(self, x):\n",
    "        x = torch.relu(self.linear1(x))\n",
    "        x = torch.relu(self.linear2(x))\n",
    "        x = torch.relu(self.linear3(x))\n",
    "        x = self.linear4(x)\n",
    "\n",
    "        # Apply softmax to the output\n",
    "        x = F.softmax(x, dim=1)\n",
    "\n",
    "        return x\n"
   ]
  },
  {
   "cell_type": "code",
   "execution_count": 190,
   "metadata": {
    "executionInfo": {
     "elapsed": 520,
     "status": "ok",
     "timestamp": 1705147356931,
     "user": {
      "displayName": "Nawaf Alzuwaymil",
      "userId": "08210568604399994989"
     },
     "user_tz": -180
    },
    "id": "VNvihVdlqoy_"
   },
   "outputs": [],
   "source": [
    "device = 'cuda' if torch.cuda.is_available() else 'cpu'  # checks if machine supports cuda and if it does, we use that, otherwise cpu\n",
    "input_size = 28 * 28\n",
    "model = MyMNISTClassifier(input_size).to(device) #this for how use google colab"
   ]
  },
  {
   "cell_type": "code",
   "execution_count": 191,
   "metadata": {
    "colab": {
     "base_uri": "https://localhost:8080/"
    },
    "executionInfo": {
     "elapsed": 3,
     "status": "ok",
     "timestamp": 1705147358516,
     "user": {
      "displayName": "Nawaf Alzuwaymil",
      "userId": "08210568604399994989"
     },
     "user_tz": -180
    },
    "id": "SuOo3Todqr7B",
    "outputId": "bd6e8303-f0bc-4af7-c649-226043c0996b"
   },
   "outputs": [
    {
     "name": "stdout",
     "output_type": "stream",
     "text": [
      "Using device cpu\n",
      "<class 'torch.nn.modules.loss.CrossEntropyLoss'>\n"
     ]
    }
   ],
   "source": [
    "from torch.optim import Adam\n",
    "num_epochs = 12 # This represents how many times you want to train the model over all the data (number of iterations).\n",
    "lr = 1e-3 # This is the learning rate.\n",
    "\n",
    "train_losses = []\n",
    "val_losses = []\n",
    "\n",
    "optimizer = Adam(model.parameters(), lr=lr) # Adam is an optimizer (i.e. GD, SGD)\n",
    "criterion = nn.CrossEntropyLoss()  # multi-class loss.\n",
    "\n",
    "model.to(device)  # we need to send all input tensors as well as our model to this device. by default they are on cpu\n",
    "\n",
    "print(f'Using device {device}')\n",
    "print(type(criterion))"
   ]
  },
  {
   "cell_type": "code",
   "execution_count": 192,
   "metadata": {
    "colab": {
     "base_uri": "https://localhost:8080/",
     "height": 435
    },
    "executionInfo": {
     "elapsed": 11634,
     "status": "ok",
     "timestamp": 1705147425470,
     "user": {
      "displayName": "Nawaf Alzuwaymil",
      "userId": "08210568604399994989"
     },
     "user_tz": -180
    },
    "id": "b2aYox1nq1Hk",
    "outputId": "22057113-0719-4a39-b05b-b95b97624aee"
   },
   "outputs": [
    {
     "name": "stdout",
     "output_type": "stream",
     "text": [
      "Epoch: 0, train_loss=3.747899107275585, val_loss=3.6538028938974456. labelled 58278/116323 correctly (50.100152162513% accuracy)\n",
      "Epoch: 1, train_loss=3.6460645018350433, val_loss=3.6349329184406916. labelled 60437/116323 correctly (51.95619095105869% accuracy)\n",
      "Epoch: 2, train_loss=3.6205224623274352, val_loss=3.6163084050311483. labelled 62603/116323 correctly (53.81824746610731% accuracy)\n",
      "Epoch: 3, train_loss=3.5951242865301083, val_loss=3.588666550330561. labelled 65816/116323 correctly (56.58038393095089% accuracy)\n",
      "Epoch: 4, train_loss=3.544836436546006, val_loss=3.535023441437511. labelled 72063/116323 correctly (61.95077499720606% accuracy)\n",
      "Epoch: 5, train_loss=3.5325620766790657, val_loss=3.5346042573588807. labelled 72109/116323 correctly (61.990320057082435% accuracy)\n",
      "Epoch: 6, train_loss=3.527094132590092, val_loss=3.537152375549217. labelled 71805/116323 correctly (61.72897879181245% accuracy)\n",
      "Epoch: 7, train_loss=3.5197564518552635, val_loss=3.5177584853890123. labelled 74082/116323 correctly (63.686459255693194% accuracy)\n",
      "Epoch: 8, train_loss=3.5139484144938877, val_loss=3.52336577064636. labelled 73418/116323 correctly (63.11563491312982% accuracy)\n",
      "Epoch: 9, train_loss=3.512679274065479, val_loss=3.5087978135499993. labelled 75097/116323 correctly (64.55902959861764% accuracy)\n",
      "Epoch: 10, train_loss=3.511520449130997, val_loss=3.517321907045277. labelled 74102/116323 correctly (63.70365275998727% accuracy)\n",
      "Epoch: 11, train_loss=3.508016898957158, val_loss=3.5115796935520094. labelled 74777/116323 correctly (64.28393352991239% accuracy)\n",
      "Training complete on device cpu.\n",
      "CPU times: user 2min 11s, sys: 44.4 s, total: 2min 55s\n",
      "Wall time: 2min 13s\n"
     ]
    }
   ],
   "source": [
    "%%time\n",
    "for epoch_no in range(num_epochs):\n",
    "\n",
    "    model.train()  # convert to train model. This turns out train-specific layers in the model (if you dont know about them, an example of them is dropout. more on this later)\n",
    "\n",
    "    epoch_weighted_loss = 0\n",
    "\n",
    "    for batch_X,batch_y in train_loader: #enumerate(loader):\n",
    "\n",
    "    # We need to flatten the input because it is a 2D array (image) not a linear.\n",
    "        batch_X = batch_X.view(-1, 28 * 28) #to flatte each image to train each photo separately\n",
    "\n",
    "        # Move everything to the device.\n",
    "        batch_X = batch_X.to(device)\n",
    "        batch_y = batch_y.to(device)\n",
    "\n",
    "        # predicite over X.\n",
    "        batch_y_probs = model(batch_X)  # outputs [N, 10] where each [:, 10] is probabilities for class (0-9)\n",
    "\n",
    "        # Compute the loss.\n",
    "        loss = criterion(batch_y_probs, batch_y)\n",
    "\n",
    "        # Reset the gradient.\n",
    "        optimizer.zero_grad()\n",
    "\n",
    "        # Compute the gradient.\n",
    "        loss.backward()\n",
    "\n",
    "        # Update the parameters.\n",
    "        optimizer.step()\n",
    "\n",
    "        # Store the loss. We just multiplied by the number of samples in the batch to use the weighted loss.\n",
    "        epoch_weighted_loss += len(batch_y) * loss.item()\n",
    "\n",
    "    epoch_loss = epoch_weighted_loss/len(train_loader.dataset)\n",
    "\n",
    "    train_losses.append(epoch_loss)\n",
    "\n",
    "\n",
    "    # validation time\n",
    "\n",
    "    model.eval()  # take model to evaluation mode. turn off train-only layers\n",
    "    correctly_labelled = 0 # To count the accuracy.\n",
    "\n",
    "    with torch.no_grad(): # To stop calculating the gradient since we do not need it here.\n",
    "\n",
    "        val_epoch_weighted_loss = 0\n",
    "\n",
    "    for val_batch_X, val_batch_y in val_loader:\n",
    "\n",
    "        val_batch_X = val_batch_X.view(-1, 28 * 28)\n",
    "\n",
    "        val_batch_X = val_batch_X.to(device)\n",
    "        val_batch_y = val_batch_y.to(device)\n",
    "\n",
    "        # Predict on val_X\n",
    "        val_batch_y_probs = model(val_batch_X)\n",
    "\n",
    "        loss = criterion(val_batch_y_probs, val_batch_y)\n",
    "\n",
    "        val_epoch_weighted_loss += len(val_batch_y) * loss.item()\n",
    "\n",
    "        # convert probailities to labels by picking the label (index) with the highest prob.\n",
    "        val_batch_y_pred = val_batch_y_probs.argmax(dim=1)\n",
    "\n",
    "        correctly_labelled += (val_batch_y_pred == val_batch_y).sum().item()  # item converts tensor to float/int/list\n",
    "\n",
    "    val_epoch_loss = val_epoch_weighted_loss/len(val_loader.dataset)\n",
    "    val_losses.append(val_epoch_loss)\n",
    "\n",
    "    print(f'Epoch: {epoch_no}, train_loss={epoch_loss}, val_loss={val_epoch_loss}. labelled {correctly_labelled}/{len(val_loader.dataset)} correctly ({correctly_labelled/len(val_loader.dataset)*100}% accuracy)')\n",
    "\n",
    "print(f'Training complete on device {device}.')"
   ]
  },
  {
   "cell_type": "code",
   "execution_count": 193,
   "metadata": {
    "id": "kNgKxUWPq5j6"
   },
   "outputs": [
    {
     "data": {
      "image/png": "[encoded data removed]",
      "text/plain": [
       "<Figure size 640x480 with 1 Axes>"
      ]
     },
     "metadata": {},
     "output_type": "display_data"
    }
   ],
   "source": [
    "plt.plot(train_losses, label='Train Loss')\n",
    "plt.plot(val_losses  , label='Val Loss')\n",
    "\n",
    "plt.ylabel('Loss (CCE)')\n",
    "plt.xlabel('Epoch')\n",
    "\n",
    "plt.legend()\n",
    "plt.show()"
   ]
  },
  {
   "cell_type": "code",
   "execution_count": null,
   "metadata": {},
   "outputs": [],
   "source": []
  },
  {
   "cell_type": "code",
   "execution_count": null,
   "metadata": {},
   "outputs": [],
   "source": []
  },
  {
   "cell_type": "code",
   "execution_count": null,
   "metadata": {},
   "outputs": [],
   "source": []
  }
 ],
 "metadata": {
  "accelerator": "GPU",
  "colab": {
   "gpuType": "T4",
   "provenance": [
    {
     "file_id": "1Vi7nWvIsu0T-8Wvq0Az1zAbh6dV9mPqp",
     "timestamp": 1705147475434
    }
   ]
  },
  "kernelspec": {
   "display_name": "Python 3 (ipykernel)",
   "language": "python",
   "name": "python3"
  },
  "language_info": {
   "codemirror_mode": {
    "name": "ipython",
    "version": 3
   },
   "file_extension": ".py",
   "mimetype": "text/x-python",
   "name": "python",
   "nbconvert_exporter": "python",
   "pygments_lexer": "ipython3",
   "version": "3.10.9"
  }
 },
 "nbformat": 4,
 "nbformat_minor": 1
}
